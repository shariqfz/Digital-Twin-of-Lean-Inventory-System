{
 "cells": [
  {
   "cell_type": "code",
   "execution_count": 1,
   "metadata": {},
   "outputs": [],
   "source": [
    "import numpy as np\n",
    "import pandas as pd\n",
    "%matplotlib notebook\n",
    "import matplotlib.pyplot as plt\n",
    "import matplotlib.animation as animation\n",
    "import seaborn as sns\n",
    "from celluloid import Camera\n",
    "import ffmpeg\n",
    "\n",
    "import os\n",
    "os.chdir(r'C:\\Users\\Shariq\\MechProject')\n",
    "os.getcwd()\n",
    "\n",
    "import simulate\n",
    "from LinearRegression import Lin_reg, perform_linear_regression"
   ]
  },
  {
   "cell_type": "code",
   "execution_count": 2,
   "metadata": {},
   "outputs": [
    {
     "name": "stdout",
     "output_type": "stream",
     "text": [
      "17 17 17 17 17\n"
     ]
    }
   ],
   "source": [
    "horizon = 24\n",
    "h, t, dh, dt, ts = simulate.simulate(horizon)\n",
    "print(len(h), len(t), len(dh), len(dt), len(ts))"
   ]
  },
  {
   "cell_type": "code",
   "execution_count": 3,
   "metadata": {
    "scrolled": true
   },
   "outputs": [
    {
     "data": {
      "text/plain": [
       "array([[100.  ,   0.  ,   5.  ,   1.23,   1.23],\n",
       "       [ 95.  ,   1.23,   6.  ,   1.57,   2.8 ],\n",
       "       [ 89.  ,   2.8 ,   8.  ,   1.62,   4.42],\n",
       "       [ 81.  ,   4.42,   6.  ,   1.88,   6.3 ],\n",
       "       [ 75.  ,   6.3 ,   2.  ,   1.1 ,   7.4 ],\n",
       "       [ 73.  ,   7.4 ,   9.  ,   1.97,   9.37],\n",
       "       [ 64.  ,   9.37,   4.  ,   1.47,  10.84],\n",
       "       [ 60.  ,  10.83,   5.  ,   1.15,  11.99],\n",
       "       [ 55.  ,  11.98,   3.  ,   1.97,  13.96],\n",
       "       [ 52.  ,  13.95,   1.  ,   0.92,  14.88],\n",
       "       [ 51.  ,  14.87,   6.  ,   0.65,  15.53],\n",
       "       [ 45.  ,  15.52,   8.  ,   1.83,  17.36],\n",
       "       [ 37.  ,  17.35,   8.  ,   1.82,  19.18],\n",
       "       [ 29.  ,  19.17,   4.  ,   1.87,  21.05],\n",
       "       [ 25.  ,  21.03,   4.  ,   1.32,  22.37],\n",
       "       [ 21.  ,  22.35,   6.  ,   0.82,  23.19],\n",
       "       [ 15.  ,  23.17,   6.  ,   1.15,  24.34]])"
      ]
     },
     "execution_count": 3,
     "metadata": {},
     "output_type": "execute_result"
    }
   ],
   "source": [
    "np.vstack([h, t, dh, dt, ts]).T"
   ]
  },
  {
   "cell_type": "markdown",
   "metadata": {},
   "source": [
    "### prepare dataset"
   ]
  },
  {
   "cell_type": "code",
   "execution_count": 43,
   "metadata": {},
   "outputs": [
    {
     "name": "stdout",
     "output_type": "stream",
     "text": [
      "{0: {'Initial_Level': 100, 'Timestamp': '0:0', 'Deduction': 5, 'Next_deduction_after_hours': 1.23}, 1: {'Initial_Level': 95, 'Timestamp': '1:13', 'Deduction': 6, 'Next_deduction_after_hours': 1.57}, 2: {'Initial_Level': 89, 'Timestamp': '2:47', 'Deduction': 8, 'Next_deduction_after_hours': 1.62}, 3: {'Initial_Level': 81, 'Timestamp': '4:25', 'Deduction': 6, 'Next_deduction_after_hours': 1.88}, 4: {'Initial_Level': 75, 'Timestamp': '6:17', 'Deduction': 2, 'Next_deduction_after_hours': 1.1}, 5: {'Initial_Level': 73, 'Timestamp': '7:24', 'Deduction': 9, 'Next_deduction_after_hours': 1.97}, 6: {'Initial_Level': 64, 'Timestamp': '9:22', 'Deduction': 4, 'Next_deduction_after_hours': 1.47}, 7: {'Initial_Level': 60, 'Timestamp': '10:49', 'Deduction': 5, 'Next_deduction_after_hours': 1.15}, 8: {'Initial_Level': 55, 'Timestamp': '11:58', 'Deduction': 3, 'Next_deduction_after_hours': 1.97}, 9: {'Initial_Level': 52, 'Timestamp': '13:56', 'Deduction': 1, 'Next_deduction_after_hours': 0.92}, 10: {'Initial_Level': 51, 'Timestamp': '14:52', 'Deduction': 6, 'Next_deduction_after_hours': 0.65}, 11: {'Initial_Level': 45, 'Timestamp': '15:31', 'Deduction': 8, 'Next_deduction_after_hours': 1.83}, 12: {'Initial_Level': 37, 'Timestamp': '17:21', 'Deduction': 8, 'Next_deduction_after_hours': 1.82}, 13: {'Initial_Level': 29, 'Timestamp': '19:10', 'Deduction': 4, 'Next_deduction_after_hours': 1.87}, 14: {'Initial_Level': 25, 'Timestamp': '21:1', 'Deduction': 4, 'Next_deduction_after_hours': 1.32}, 15: {'Initial_Level': 21, 'Timestamp': '22:21', 'Deduction': 6, 'Next_deduction_after_hours': 0.82}, 16: {'Initial_Level': 15, 'Timestamp': '23:10', 'Deduction': 6, 'Next_deduction_after_hours': 1.15}}\n"
     ]
    }
   ],
   "source": [
    "t_hour_min = []\n",
    "\n",
    "import math\n",
    "for x in t:\n",
    "    frac, integer = math.modf(x)\n",
    "    hour, minute = int(integer), int(frac*60)\n",
    "    timestamp = f'{hour}:{minute}'\n",
    "    t_hour_min.append(timestamp)\n",
    "    \n",
    "df = pd.DataFrame({'Initial_Level': h,\n",
    "                   'Timestamp': t_hour_min,\n",
    "                   'Deduction': dh,\n",
    "                   'Next_deduction_after_hours': dt,\n",
    "                   })\n",
    "\n",
    "dict = {}\n",
    "for i, (level, time, dedu, nxt_dd) in enumerate(df.values):\n",
    "    dict[i] = {'Initial_Level': level,\n",
    "                   'Timestamp': time,\n",
    "                   'Deduction': dedu,\n",
    "                   'Next_deduction_after_hours': nxt_dd}\n",
    "print(dict)\n",
    "\n",
    "out_file = open('data.json', 'w')\n",
    "json.dump(dict, out_file)\n",
    "out_file.close()"
   ]
  },
  {
   "cell_type": "code",
   "execution_count": 48,
   "metadata": {},
   "outputs": [
    {
     "name": "stdout",
     "output_type": "stream",
     "text": [
      "{'0': {'Initial_Level': 100, 'Timestamp': '0:0', 'Deduction': 5, 'Next_deduction_after_hours': 1.23}, '1': {'Initial_Level': 95, 'Timestamp': '1:13', 'Deduction': 6, 'Next_deduction_after_hours': 1.57}, '2': {'Initial_Level': 89, 'Timestamp': '2:47', 'Deduction': 8, 'Next_deduction_after_hours': 1.62}, '3': {'Initial_Level': 81, 'Timestamp': '4:25', 'Deduction': 6, 'Next_deduction_after_hours': 1.88}, '4': {'Initial_Level': 75, 'Timestamp': '6:17', 'Deduction': 2, 'Next_deduction_after_hours': 1.1}, '5': {'Initial_Level': 73, 'Timestamp': '7:24', 'Deduction': 9, 'Next_deduction_after_hours': 1.97}, '6': {'Initial_Level': 64, 'Timestamp': '9:22', 'Deduction': 4, 'Next_deduction_after_hours': 1.47}, '7': {'Initial_Level': 60, 'Timestamp': '10:49', 'Deduction': 5, 'Next_deduction_after_hours': 1.15}, '8': {'Initial_Level': 55, 'Timestamp': '11:58', 'Deduction': 3, 'Next_deduction_after_hours': 1.97}, '9': {'Initial_Level': 52, 'Timestamp': '13:56', 'Deduction': 1, 'Next_deduction_after_hours': 0.92}, '10': {'Initial_Level': 51, 'Timestamp': '14:52', 'Deduction': 6, 'Next_deduction_after_hours': 0.65}, '11': {'Initial_Level': 45, 'Timestamp': '15:31', 'Deduction': 8, 'Next_deduction_after_hours': 1.83}, '12': {'Initial_Level': 37, 'Timestamp': '17:21', 'Deduction': 8, 'Next_deduction_after_hours': 1.82}, '13': {'Initial_Level': 29, 'Timestamp': '19:10', 'Deduction': 4, 'Next_deduction_after_hours': 1.87}, '14': {'Initial_Level': 25, 'Timestamp': '21:1', 'Deduction': 4, 'Next_deduction_after_hours': 1.32}, '15': {'Initial_Level': 21, 'Timestamp': '22:21', 'Deduction': 6, 'Next_deduction_after_hours': 0.82}, '16': {'Initial_Level': 15, 'Timestamp': '23:10', 'Deduction': 6, 'Next_deduction_after_hours': 1.15}}\n"
     ]
    }
   ],
   "source": [
    "with open('data.json', 'r') as f:\n",
    "    data = json.load(f)\n",
    "\n",
    "print(data)"
   ]
  },
  {
   "cell_type": "code",
   "execution_count": null,
   "metadata": {},
   "outputs": [],
   "source": []
  },
  {
   "cell_type": "code",
   "execution_count": null,
   "metadata": {},
   "outputs": [],
   "source": []
  }
 ],
 "metadata": {
  "kernelspec": {
   "display_name": "Python 3",
   "language": "python",
   "name": "python3"
  },
  "language_info": {
   "codemirror_mode": {
    "name": "ipython",
    "version": 3
   },
   "file_extension": ".py",
   "mimetype": "text/x-python",
   "name": "python",
   "nbconvert_exporter": "python",
   "pygments_lexer": "ipython3",
   "version": "3.7.6"
  }
 },
 "nbformat": 4,
 "nbformat_minor": 4
}
